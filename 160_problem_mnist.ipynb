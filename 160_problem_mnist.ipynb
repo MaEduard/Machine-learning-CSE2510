{
 "cells": [
  {
   "cell_type": "markdown",
   "metadata": {},
   "source": [
    "# MNIST"
   ]
  },
  {
   "cell_type": "code",
   "execution_count": 1,
   "metadata": {},
   "outputs": [],
   "source": [
    "import numpy as np\n",
    "import pandas as pd\n",
    "\n",
    "from sklearn.naive_bayes import GaussianNB\n",
    "from sklearn.dummy import DummyClassifier\n",
    "from sklearn.tree import DecisionTreeClassifier\n",
    "from sklearn.svm import SVC\n",
    "from sklearn.neighbors import KNeighborsClassifier\n",
    "from sklearn.linear_model import LogisticRegression\n",
    "\n",
    "import matplotlib.pyplot as plt\n",
    "import seaborn as sns"
   ]
  },
  {
   "cell_type": "markdown",
   "metadata": {},
   "source": [
    "## Global config"
   ]
  },
  {
   "cell_type": "code",
   "execution_count": 2,
   "metadata": {},
   "outputs": [],
   "source": [
    "# # TODO\n",
    "# https://machinelearningmastery.com/k-fold-cross-validation/\n",
    "#     https://machinelearningmastery.com/data-leakage-machine-learning/\n",
    "\n",
    "# def deskew_2(data):\n",
    "#     new_data = np.zeros(data.shape[0], data.shape[1], data.shape[2])\n",
    "#     for index, image in enumerate(data):\n",
    "#         c,v = moments(image)\n",
    "#         alpha = v[0,1]/v[0,0]\n",
    "#         affine = np.array([[1,0],[alpha,1]])\n",
    "#         ocenter = np.array(image.shape)/2.0\n",
    "#         offset = c-np.dot(affine,ocenter)\n",
    "#         new_data[index, :, :] = interpolation.affine_transform(image,affine,offset=offset)\n",
    "    \n",
    "#     return new_data\n",
    "\n",
    "\n",
    "\n",
    "# X = np.array([[1, 2], [3, 4], [1, 2], [3, 4], [1, 2], [3, 4], [1, 2], [3, 4]])\n",
    "# y = np.array([1, 2, 3, 4, 1, 2, 3, 4])\n",
    "# kf = KFold(n_splits=3)\n",
    "# kf.get_n_splits(X)\n",
    "\n",
    "# print(kf)\n",
    "# for train_index, test_index in kf.split(X):\n",
    "#     print(\"TRAIN:\", train_index, \"TEST:\", test_index)\n",
    "#     X_train, X_test = X[train_index], X[test_index]\n",
    "#     y_train, y_test = y[train_index], y[test_index]"
   ]
  },
  {
   "cell_type": "markdown",
   "metadata": {},
   "source": [
    "## Load data"
   ]
  },
  {
   "cell_type": "code",
   "execution_count": 3,
   "metadata": {},
   "outputs": [],
   "source": [
    "mnist_28x28_train = np.load(\"mnist_28x28_train.npy\")\n",
    "mnist_8x8_train = np.load(\"mnist_8x8_train.npy\")\n",
    "train_labels = np.load(\"train_labels.npy\")\n",
    "\n",
    "mnist_28x28_test = np.load(\"mnist_28x28_test.npy\")\n",
    "mnist_8x8_test = np.load(\"mnist_8x8_test.npy\")"
   ]
  },
  {
   "cell_type": "markdown",
   "metadata": {},
   "source": [
    "## Helpers"
   ]
  },
  {
   "cell_type": "code",
   "execution_count": 4,
   "metadata": {},
   "outputs": [],
   "source": [
    "# TODO\n",
    "\n",
    "\n",
    "import scipy as sp\n",
    "import math\n",
    "from scipy.ndimage import interpolation\n",
    "from sklearn.utils.validation import check_is_fitted\n",
    "from sklearn.metrics import f1_score, accuracy_score\n",
    "from sklearn.model_selection import train_test_split\n",
    "from sklearn.model_selection import KFold\n",
    "from sklearn.model_selection import cross_validate\n",
    "from sklearn.metrics import make_scorer\n",
    "from sklearn.model_selection import GridSearchCV\n",
    "from sklearn.preprocessing import MinMaxScaler\n",
    "from sklearn.preprocessing import StandardScaler\n",
    "from sklearn import preprocessing"
   ]
  },
  {
   "cell_type": "markdown",
   "metadata": {},
   "source": [
    "##  Data exploration"
   ]
  },
  {
   "cell_type": "markdown",
   "metadata": {},
   "source": [
    "### Question 1\n",
    "Explore the dataset by plotting the same image from both datasets side by side. How do these images compare? Which dataset do you expect to perform better Clearly explain why you suspect that."
   ]
  },
  {
   "cell_type": "code",
   "execution_count": 5,
   "metadata": {},
   "outputs": [
    {
     "name": "stdout",
     "output_type": "stream",
     "text": [
      "Training data 28x28 pixels shape:  (3750, 28, 28)\n",
      "Training data 8x8 pixels shape:  (3750, 8, 8)\n",
      "Training data labels shape:  (3750,)\n",
      "Test data 28x28 pixels shape:  (1250, 28, 28)\n",
      "Test data 8x8 pixels shape:  (1250, 8, 8)\n",
      "Training data 28x28 pixels shape:  (3750, 28, 28)\n",
      "Training data 28x28 pixels type:  uint8\n",
      "Training data 8x8 pixels type:  uint8\n",
      "Training data labels type:  int64\n"
     ]
    },
    {
     "data": {
      "image/png": "[encoded data removed]",
      "text/plain": [
       "<Figure size 432x288 with 2 Axes>"
      ]
     },
     "metadata": {
      "needs_background": "light"
     },
     "output_type": "display_data"
    },
    {
     "data": {
      "image/png": "[encoded data removed]",
      "text/plain": [
       "<Figure size 432x288 with 2 Axes>"
      ]
     },
     "metadata": {
      "needs_background": "light"
     },
     "output_type": "display_data"
    },
    {
     "name": "stdout",
     "output_type": "stream",
     "text": [
      "0\n"
     ]
    },
    {
     "data": {
      "text/plain": [
       "3750"
      ]
     },
     "execution_count": 5,
     "metadata": {},
     "output_type": "execute_result"
    },
    {
     "data": {
      "image/png": "[encoded data removed]",
      "text/plain": [
       "<Figure size 432x288 with 1 Axes>"
      ]
     },
     "metadata": {
      "needs_background": "light"
     },
     "output_type": "display_data"
    }
   ],
   "source": [
    "# TODO\n",
    "i = 0\n",
    "j = 10\n",
    "print(\"Training data 28x28 pixels shape: \", mnist_28x28_train.shape)\n",
    "print(\"Training data 8x8 pixels shape: \", mnist_8x8_train.shape)\n",
    "print(\"Training data labels shape: \", train_labels.shape)\n",
    "print(\"Test data 28x28 pixels shape: \", mnist_28x28_test.shape)\n",
    "print(\"Test data 8x8 pixels shape: \", mnist_8x8_test.shape)\n",
    "print(\"Training data 28x28 pixels shape: \", mnist_28x28_train.shape)\n",
    "print(\"Training data 28x28 pixels type: \", mnist_28x28_train.dtype)\n",
    "print(\"Training data 8x8 pixels type: \", mnist_8x8_train.dtype)\n",
    "print(\"Training data labels type: \", train_labels.dtype)\n",
    "\n",
    "plt.figure(1)\n",
    "plt.subplot(121)\n",
    "plt.imshow(mnist_28x28_train[i,:,:])\n",
    "plt.title(\"28 x 28 image\")\n",
    "plt.subplot(122)\n",
    "plt.imshow(mnist_8x8_train[i,:,:])\n",
    "plt.title(\"8x8 image\")\n",
    "plt.show()\n",
    "\n",
    "plt.figure(2)\n",
    "plt.subplot(121)\n",
    "plt.imshow(mnist_28x28_train[j,:,:])\n",
    "plt.title(\"28 x 28 image\")\n",
    "plt.subplot(122)\n",
    "plt.imshow(mnist_8x8_train[j,:,:])\n",
    "plt.title(\"8x8 image\")\n",
    "plt.show()\n",
    "\n",
    "print(mnist_28x28_train.min())\n",
    "\n",
    "   \n",
    "unique_labels = np.unique(train_labels)\n",
    "hist = np.bincount(train_labels)\n",
    "\n",
    "plt.bar(unique_labels, hist)\n",
    "\n",
    "plt.title(\"distribution of labels in our given dataset.\") \n",
    "plt.xlabel(\"type of labels: 0-9\")\n",
    "plt.ylabel(\"frequency\")\n",
    "\n",
    "mnist_28x28_train.shape[0]"
   ]
  },
  {
   "cell_type": "markdown",
   "metadata": {},
   "source": [
    "##  Data Preparations"
   ]
  },
  {
   "cell_type": "markdown",
   "metadata": {},
   "source": [
    "### Question 1\n",
    "\n",
    " Examine the features of both the datasets and decide if you need to do any\n",
    " data cleaning or preprocessing."
   ]
  },
  {
   "cell_type": "code",
   "execution_count": 6,
   "metadata": {},
   "outputs": [
    {
     "name": "stdout",
     "output_type": "stream",
     "text": [
      "Are there any Nan values in the data?:  False\n"
     ]
    },
    {
     "data": {
      "image/png": "[encoded data removed]",
      "text/plain": [
       "<Figure size 432x288 with 2 Axes>"
      ]
     },
     "metadata": {
      "needs_background": "light"
     },
     "output_type": "display_data"
    },
    {
     "data": {
      "image/png": "[encoded data removed]",
      "text/plain": [
       "<Figure size 432x288 with 2 Axes>"
      ]
     },
     "metadata": {
      "needs_background": "light"
     },
     "output_type": "display_data"
    },
    {
     "name": "stdout",
     "output_type": "stream",
     "text": [
      "new shape:  (3750, 784)\n",
      "new shape:  (3750, 64)\n",
      "3739\n",
      "3750\n"
     ]
    }
   ],
   "source": [
    "# TODO\n",
    "\n",
    "# check for null values in the data. \n",
    "\n",
    "array_sum = np.sum(train_labels)\n",
    "array_has_nan = np.isnan(array_sum)\n",
    "print(\"Are there any Nan values in the data?: \", array_has_nan) #False, so all samples have a label.\n",
    "\n",
    "# the data consists of the uint8 pixel values, meaning that every feature, i.e. pixel, can have a value between \n",
    "# 0 (black) and 255 (white). \n",
    "# We can thus treat this as categorial data.\n",
    "\n",
    "# preprocessing that could be done is for example deskewing? -> by computing the principal axis of the shape \n",
    "# that is closest to the vertical, and shifting the lines so as to make it vertical\n",
    "\n",
    "# https://fsix.github.io/mnist/Deskewing.html -> another preprocessing step that can be done is Onehot encoding and elastic transform?\n",
    "\n",
    "def moments(image):\n",
    "    c0,c1 = np.mgrid[:image.shape[0],:image.shape[1]] # A trick in numPy to create a mesh grid\n",
    "    totalImage = np.sum(image) #sum of pixels\n",
    "    m0 = np.sum(c0*image)/totalImage #mu_x\n",
    "    m1 = np.sum(c1*image)/totalImage #mu_y\n",
    "    m00 = np.sum((c0-m0)**2*image)/totalImage #var(x)\n",
    "    m11 = np.sum((c1-m1)**2*image)/totalImage #var(y)\n",
    "    m01 = np.sum((c0-m0)*(c1-m1)*image)/totalImage #covariance(x,y)\n",
    "    mu_vector = np.array([m0,m1]) # Notice that these are \\mu_x, \\mu_y respectively\n",
    "    covariance_matrix = np.array([[m00,m01],[m01,m11]]) # Do you see a similarity between the covariance matrix\n",
    "    return mu_vector, covariance_matrix\n",
    "\n",
    "def deskew(image):\n",
    "    c,v = moments(image)\n",
    "    alpha = v[0,1]/v[0,0]\n",
    "    affine = np.array([[1,0],[alpha,1]])\n",
    "    ocenter = np.array(image.shape)/2.0\n",
    "    offset = c-np.dot(affine,ocenter)\n",
    "    return interpolation.affine_transform(image,affine,offset=offset)\n",
    "\n",
    "\n",
    "mnist_28x28_train_deskewed = np.zeros(mnist_28x28_train.shape)\n",
    "mnist_8x8_train_deskewed = np.zeros(mnist_8x8_train.shape)\n",
    "\n",
    "for index, image in enumerate(mnist_28x28_train):\n",
    "    mnist_28x28_train_deskewed[index, :, :] = deskew(image)\n",
    "    \n",
    "for index, image in enumerate(mnist_8x8_train):\n",
    "    mnist_8x8_train_deskewed[index, :, :] = deskew(image)\n",
    "\n",
    "\n",
    "find_ones = np.where(train_labels == 1)\n",
    "    \n",
    "plt.figure(3)\n",
    "plt.subplot(121)\n",
    "plt.imshow(mnist_28x28_train[find_ones[0][i],:,:])\n",
    "plt.title(\"non processed\")\n",
    "plt.subplot(122)\n",
    "plt.imshow(mnist_28x28_train_deskewed[find_ones[0][i],:,:])\n",
    "plt.title(\"processed (deskewed)\")\n",
    "plt.show()\n",
    "\n",
    "\n",
    "plt.figure(4)\n",
    "plt.subplot(121)\n",
    "plt.imshow(mnist_8x8_train[find_ones[0][i],:,:])\n",
    "plt.title(\"non processed\")\n",
    "plt.subplot(122)\n",
    "plt.imshow(mnist_8x8_train_deskewed[find_ones[0][i],:,:])\n",
    "plt.title(\"processed (deskewed)\")\n",
    "plt.show()\n",
    "\n",
    "# scaling ! -> 0 - 255 should be scaled to -1 to 1 or 0 to 1.\n",
    "\n",
    "# convert 3D array to 2D array, where every row is an image and every column is a pixel value (feature). SAY IN REPORT!\n",
    "mnist_28x28_train_deskewed = np.reshape(mnist_28x28_train_deskewed, (mnist_28x28_train_deskewed.shape[0], mnist_28x28_train_deskewed.shape[1]*mnist_28x28_train_deskewed.shape[2]))\n",
    "mnist_8x8_train_deskewed = np.reshape(mnist_8x8_train_deskewed, (mnist_8x8_train_deskewed.shape[0], mnist_8x8_train_deskewed.shape[1]*mnist_8x8_train_deskewed.shape[2]))\n",
    "print(\"new shape: \", mnist_28x28_train_deskewed.shape)\n",
    "print(\"new shape: \", mnist_8x8_train_deskewed.shape)\n",
    "\n",
    "max_values_all_the_same = 0\n",
    "min_values_all_the_same = 0\n",
    "for image in mnist_28x28_train_deskewed:\n",
    "    if(np.max(image) == 255):\n",
    "        max_values_all_the_same = max_values_all_the_same + 1\n",
    "    if(np.min(image) == 0):\n",
    "        min_values_all_the_same = min_values_all_the_same + 1\n",
    "\n",
    "print(max_values_all_the_same);\n",
    "print(min_values_all_the_same);\n"
   ]
  },
  {
   "cell_type": "markdown",
   "metadata": {},
   "source": [
    "## Experiments"
   ]
  },
  {
   "cell_type": "markdown",
   "metadata": {},
   "source": [
    "### Question 1"
   ]
  },
  {
   "cell_type": "markdown",
   "metadata": {},
   "source": [
    "\n",
    "Now set up your experiment. Clearly explain how you divided the data and how you ensured a valid measurement."
   ]
  },
  {
   "cell_type": "code",
   "execution_count": 7,
   "metadata": {
    "scrolled": true
   },
   "outputs": [],
   "source": [
    "# TODO\n",
    "# we set up our classifiers. \n",
    "\n",
    "models = {\n",
    "    \"GaussianNB\": GaussianNB(),\n",
    "    \"DecisionTreeClassifier\": DecisionTreeClassifier(max_depth=None, min_samples_leaf=2, random_state=42),\n",
    "    \"KNeighborsClassifier\": KNeighborsClassifier(n_neighbors=3, weights=\"distance\"),\n",
    "    \"SVM\": SVC(C = 10, kernel = \"poly\", random_state = 42),\n",
    "    \"LogisticRegression\": LogisticRegression(C = 10, penalty = \"none\", random_state=42, max_iter = 150000)\n",
    "}\n",
    "\n",
    "def k_fold_fit_and_evaluate(X, y, model, scoring_method, n_splits=5):\n",
    "    # define evaluation procedure\n",
    "    CV = KFold(n_splits=n_splits, random_state=42, shuffle=True)\n",
    "    # evaluate model\n",
    "    scores = cross_validate(model, X, y, scoring=scoring_method, cv=CV, n_jobs=-1)\n",
    "    \n",
    "    return scores[\"test_score\"]\n"
   ]
  },
  {
   "cell_type": "markdown",
   "metadata": {},
   "source": [
    "### Question 2\n",
    "Fit the five algorithms using Scikit-learn’s default hyper-parameters. Createa useful plot that shows the performances of the algorithms."
   ]
  },
  {
   "cell_type": "code",
   "execution_count": 13,
   "metadata": {},
   "outputs": [
    {
     "data": {
      "text/html": [
       "<div>\n",
       "<style scoped>\n",
       "    .dataframe tbody tr th:only-of-type {\n",
       "        vertical-align: middle;\n",
       "    }\n",
       "\n",
       "    .dataframe tbody tr th {\n",
       "        vertical-align: top;\n",
       "    }\n",
       "\n",
       "    .dataframe thead th {\n",
       "        text-align: right;\n",
       "    }\n",
       "</style>\n",
       "<table border=\"1\" class=\"dataframe\">\n",
       "  <thead>\n",
       "    <tr style=\"text-align: right;\">\n",
       "      <th></th>\n",
       "      <th>mean_f1</th>\n",
       "      <th>std_f1</th>\n",
       "      <th>mean_accuracy</th>\n",
       "      <th>std_accuracy</th>\n",
       "    </tr>\n",
       "  </thead>\n",
       "  <tbody>\n",
       "    <tr>\n",
       "      <th>GaussianNB</th>\n",
       "      <td>0.730360</td>\n",
       "      <td>0.021730</td>\n",
       "      <td>0.731200</td>\n",
       "      <td>0.020372</td>\n",
       "    </tr>\n",
       "    <tr>\n",
       "      <th>DecisionTreeClassifier</th>\n",
       "      <td>0.795299</td>\n",
       "      <td>0.015214</td>\n",
       "      <td>0.795200</td>\n",
       "      <td>0.014547</td>\n",
       "    </tr>\n",
       "    <tr>\n",
       "      <th>KNeighborsClassifier</th>\n",
       "      <td>0.954518</td>\n",
       "      <td>0.004783</td>\n",
       "      <td>0.954667</td>\n",
       "      <td>0.004770</td>\n",
       "    </tr>\n",
       "    <tr>\n",
       "      <th>SVM</th>\n",
       "      <td>0.953605</td>\n",
       "      <td>0.009669</td>\n",
       "      <td>0.953600</td>\n",
       "      <td>0.009666</td>\n",
       "    </tr>\n",
       "    <tr>\n",
       "      <th>LogisticRegression</th>\n",
       "      <td>0.907032</td>\n",
       "      <td>0.009991</td>\n",
       "      <td>0.906933</td>\n",
       "      <td>0.010028</td>\n",
       "    </tr>\n",
       "  </tbody>\n",
       "</table>\n",
       "</div>"
      ],
      "text/plain": [
       "                         mean_f1    std_f1  mean_accuracy  std_accuracy\n",
       "GaussianNB              0.730360  0.021730       0.731200      0.020372\n",
       "DecisionTreeClassifier  0.795299  0.015214       0.795200      0.014547\n",
       "KNeighborsClassifier    0.954518  0.004783       0.954667      0.004770\n",
       "SVM                     0.953605  0.009669       0.953600      0.009666\n",
       "LogisticRegression      0.907032  0.009991       0.906933      0.010028"
      ]
     },
     "execution_count": 13,
     "metadata": {},
     "output_type": "execute_result"
    },
    {
     "data": {
      "image/png": "[encoded data removed]",
      "text/plain": [
       "<Figure size 936x360 with 1 Axes>"
      ]
     },
     "metadata": {
      "needs_background": "light"
     },
     "output_type": "display_data"
    }
   ],
   "source": [
    "n_splits = 5\n",
    "\n",
    "scoring_method_f1 = make_scorer(lambda true_target, prediction : f1_score(true_target, prediction, average=\"weighted\"))\n",
    "scoring_method_accuracy = make_scorer(lambda true_target, prediction : accuracy_score(true_target, prediction))\n",
    "mean_f1 = 0\n",
    "std_f1 = 0\n",
    "mean_accuracy = 0\n",
    "std_accuracy = 0\n",
    "\n",
    "data = pd.DataFrame()\n",
    "\n",
    "for name, model in models.items():\n",
    "    print(name)\n",
    "    metrics_f1 = k_fold_fit_and_evaluate(mnist_28x28_train_deskewed, train_labels, (model), scoring_method_f1, n_splits=n_splits)\n",
    "    metrics_accuracy = k_fold_fit_and_evaluate(mnist_28x28_train_deskewed, train_labels, (model), scoring_method_accuracy, n_splits=n_splits)\n",
    "    print(metrics_f1)\n",
    "    # START ANSWER \n",
    "    mean_f1 = np.mean(metrics_f1)\n",
    "    std_f1 = np.std(metrics_f1)\n",
    "    mean_accuracy = np.mean(metrics_accuracy)\n",
    "    std_accuracy = np.std(metrics_accuracy)\n",
    "    data1 = pd.DataFrame(np.array([mean_f1, std_f1, mean_accuracy, std_accuracy]).reshape(1,4))\n",
    "                   \n",
    "    data = pd.concat([data, data1], axis = 0)\n",
    "    # END ANSWER \n",
    "    \n",
    "data.columns = ['mean_f1', 'std_f1', 'mean_accuracy', 'std_accuracy']\n",
    "data.index = ['GaussianNB', 'DecisionTreeClassifier', 'KNeighborsClassifier', 'SVM', 'LogisticRegression'] \n",
    "\n",
    "\n",
    "N = 5\n",
    "ind = np.arange(N)  # the x locations for the groups\n",
    "width = 0.5       # the width of the bars\n",
    "\n",
    "fig = plt.figure(figsize=(13,5))\n",
    "ax = fig.add_subplot(111)\n",
    "\n",
    "zvals = data['mean_accuracy']\n",
    "rects2 = ax.bar(ind+0.5*width, zvals, width, color='r', align='center', yerr = data['std_accuracy'], capsize = 13)\n",
    "\n",
    "ax.set_title('Performance of different classifiers')\n",
    "ax.set_ylabel('accuracy')\n",
    "ax.set_xticks(ind+0.5*width)\n",
    "ax.set_xticklabels( ('GaussianNB', 'DecisionTreeClassifier', 'KNeighborsClassifier', 'SVM', 'LogisticRegression') )\n",
    "\n",
    "data.head()"
   ]
  },
  {
   "cell_type": "markdown",
   "metadata": {},
   "source": [
    "### Question 3"
   ]
  },
  {
   "cell_type": "markdown",
   "metadata": {},
   "source": [
    "Now perform hyper-parameter tuning on the key hyper-parameters you have previously identified."
   ]
  },
  {
   "cell_type": "code",
   "execution_count": 9,
   "metadata": {},
   "outputs": [
    {
     "name": "stdout",
     "output_type": "stream",
     "text": [
      "GaussianNB\n",
      "- best_score = 0.7312000000000001\n",
      "best paramters:\n",
      "DecisionTreeClassifier\n",
      "- best_score = 0.8032\n",
      "best paramters:\n",
      "- max_depth None\n",
      "- min_samples_leaf 1\n",
      "- random_state 42\n",
      "KNeighborsClassifier\n",
      "- best_score = 0.9546666666666667\n",
      "best paramters:\n",
      "- n_neighbors 3\n",
      "- weights distance\n",
      "SVM\n",
      "- best_score = 0.9642666666666667\n",
      "best paramters:\n",
      "- C 100\n",
      "- kernel rbf\n",
      "- random_state 42\n",
      "LogisticRegression\n",
      "- best_score = 0.9250666666666666\n",
      "best paramters:\n",
      "- C 0.001\n",
      "- penalty l2\n",
      "- random_state 42\n"
     ]
    }
   ],
   "source": [
    "# TODO\n",
    "\n",
    "# find best default hyperparameters with the gridsearch cross validation.\n",
    "random_state = 42\n",
    "n_splits = 5\n",
    "scoring_method = make_scorer(lambda true_target, prediction : accuracy_score(true_target, prediction))\n",
    "\n",
    "\n",
    "model_parameters = {\n",
    "    \"GaussianNB\": {\n",
    "    \n",
    "    },\n",
    "    \"DecisionTreeClassifier\": {\n",
    "        'random_state': [random_state],\n",
    "        'min_samples_leaf': [1, 2, 3, 5, 7, 9],\n",
    "        'max_depth': [None, 2, 5, 7, 9, 10]\n",
    "    },\n",
    "    # START ANSWER\n",
    "    \"KNeighborsClassifier\": {\n",
    "        \"n_neighbors\": [3,5,7,9,11,13,15,17,19,21],\n",
    "        'weights': ['uniform', 'distance']\n",
    "    },\n",
    "    \"SVM\": {\n",
    "        'C':  [100, 10, 1.0, 0.1, 0.001], \n",
    "        'kernel': ['linear', 'poly', 'rbf', 'sigmoid'],\n",
    "        'random_state': [random_state]\n",
    "    },\n",
    "    \"LogisticRegression\": {\n",
    "        'C': [100, 10, 1.0, 0.1, 0.001],\n",
    "        'penalty' : ['none', 'l1', 'l2', 'elasticnet'],\n",
    "        'random_state': [random_state]\n",
    "    }\n",
    "    # END ANSWER\n",
    "}\n",
    "\n",
    "best_scores = []\n",
    "\n",
    "for model_name, parameters in model_parameters.items():\n",
    "    model = models[model_name]\n",
    "    \n",
    "    \n",
    "    cv = KFold(n_splits=n_splits, random_state=random_state, shuffle=True)\n",
    "    grid_search = GridSearchCV(model, parameters, cv=cv, n_jobs=-1, verbose=False, scoring=scoring_method).fit(mnist_28x28_train_deskewed, train_labels)\n",
    "    \n",
    "    best_model = grid_search.best_estimator_\n",
    "    best_score = grid_search.best_score_\n",
    "    best_params = grid_search.best_params_\n",
    "    \n",
    "    best_scores.append(best_score)\n",
    "    print(model_name)\n",
    "    print(\"- best_score =\", best_score)\n",
    "    print(\"best paramters:\")\n",
    "    for k,v in best_params.items():\n",
    "        print(\"-\", k, v)\n"
   ]
  },
  {
   "cell_type": "markdown",
   "metadata": {},
   "source": [
    "### Question 4 "
   ]
  },
  {
   "cell_type": "markdown",
   "metadata": {},
   "source": [
    "Compare the performance of the algorithms wita and without hyper-parameter tuning. Also, make a comparison with your original baseline."
   ]
  },
  {
   "cell_type": "code",
   "execution_count": 10,
   "metadata": {},
   "outputs": [
    {
     "name": "stdout",
     "output_type": "stream",
     "text": [
      "GaussianNB\n",
      "[0.724      0.69466667 0.74933333 0.74       0.748     ]\n",
      "DecisionTreeClassifier\n",
      "[0.79066667 0.81333333 0.80666667 0.776      0.82933333]\n",
      "KNeighborsClassifier\n",
      "[0.948      0.95333333 0.96133333 0.952      0.95866667]\n",
      "SVM\n",
      "[0.96133333 0.972      0.972      0.95066667 0.96533333]\n",
      "LogisticRegression\n",
      "[0.92       0.93066667 0.93866667 0.91333333 0.92266667]\n",
      "GaussianNB                0.731200\n",
      "DecisionTreeClassifier    0.795200\n",
      "KNeighborsClassifier      0.954667\n",
      "SVM                       0.953600\n",
      "LogisticRegression        0.906933\n",
      "Name: mean_accuracy, dtype: float64\n",
      "GaussianNB                0.731200\n",
      "DecisionTreeClassifier    0.803200\n",
      "KNeighborsClassifier      0.954667\n",
      "SVM                       0.964267\n",
      "LogisticRegression        0.925067\n",
      "Name: mean_accuracy, dtype: float64\n"
     ]
    },
    {
     "data": {
      "text/plain": [
       "<matplotlib.legend.Legend at 0x1d1d09280c8>"
      ]
     },
     "execution_count": 10,
     "metadata": {},
     "output_type": "execute_result"
    },
    {
     "data": {
      "image/png": "[encoded data removed]",
      "text/plain": [
       "<Figure size 936x360 with 1 Axes>"
      ]
     },
     "metadata": {
      "needs_background": "light"
     },
     "output_type": "display_data"
    }
   ],
   "source": [
    "# comparing the tuned vs non tuned version\n",
    "\n",
    "models = {\n",
    "    \"GaussianNB\": GaussianNB(),\n",
    "    \"DecisionTreeClassifier\": DecisionTreeClassifier(max_depth=None, min_samples_leaf=1, random_state=42),\n",
    "    \"KNeighborsClassifier\": KNeighborsClassifier(n_neighbors=3, weights=\"distance\"),\n",
    "    \"SVM\": SVC(C = 100, kernel = \"rbf\", random_state = 42),\n",
    "    \"LogisticRegression\": LogisticRegression(C = 0.001, penalty = \"l2\", random_state=42, max_iter = 150000)\n",
    "}\n",
    "\n",
    "\n",
    "n_splits = 5\n",
    "\n",
    "scoring_method_f1 = make_scorer(lambda true_target, prediction : f1_score(true_target, prediction, average=\"weighted\"))\n",
    "scoring_method_accuracy = make_scorer(lambda true_target, prediction : accuracy_score(true_target, prediction))\n",
    "mean_f1 = 0\n",
    "std_f1 = 0\n",
    "mean_accuracy = 0\n",
    "std_accuracy = 0\n",
    "\n",
    "data2 = pd.DataFrame()\n",
    "\n",
    "for name, model in models.items():\n",
    "    print(name)\n",
    "    metrics_f1 = k_fold_fit_and_evaluate(mnist_28x28_train_deskewed, train_labels, (model), scoring_method_f1, n_splits=n_splits)\n",
    "    metrics_accuracy = k_fold_fit_and_evaluate(mnist_28x28_train_deskewed, train_labels, (model), scoring_method_accuracy, n_splits=n_splits)\n",
    "    # START ANSWER \n",
    "    mean_f1 = np.mean(metrics_f1)\n",
    "    std_f1 = np.std(metrics_f1)\n",
    "    mean_accuracy = np.mean(metrics_accuracy)\n",
    "    std_accuracy = np.std(metrics_accuracy)\n",
    "    data1 = pd.DataFrame(np.array([mean_f1, std_f1, mean_accuracy, std_accuracy]).reshape(1,4))\n",
    "                   \n",
    "    data2 = pd.concat([data2, data1], axis = 0)\n",
    "    # END ANSWER \n",
    "    \n",
    "data2.columns = ['mean_f1', 'std_f1', 'mean_accuracy', 'std_accuracy']\n",
    "data2.index = ['GaussianNB', 'DecisionTreeClassifier', 'KNeighborsClassifier', 'SVM', 'LogisticRegression'] \n",
    "\n",
    "N = 5\n",
    "ind = np.arange(N)  # the x locations for the groups\n",
    "width = 0.37       # the width of the bars\n",
    "\n",
    "fig = plt.figure(figsize=(13,5))\n",
    "ax = fig.add_subplot(111)\n",
    "\n",
    "\n",
    "yvals = data['mean_accuracy']\n",
    "rects1 = ax.bar(ind, yvals, width, color='r', align='center', yerr = data['std_accuracy'], capsize = 13)\n",
    "zvals = data2['mean_accuracy']\n",
    "rects2 = ax.bar(ind+width, zvals, width, color='g', align='center', yerr = data2['std_accuracy'], capsize = 13)\n",
    "\n",
    "ax.set_title('mean_accuracy')\n",
    "ax.set_ylabel('accuracy')\n",
    "ax.set_xticks(ind+0.5*width)\n",
    "ax.set_xticklabels( ('GaussianNB', 'DecisionTreeClassifier', 'KNeighborsClassifier', 'SVM', 'LogisticRegression') )\n",
    "ax.legend( (rects1[0], rects2[0]), ('Without tuning', 'With tuning'))\n"
   ]
  },
  {
   "cell_type": "markdown",
   "metadata": {},
   "source": [
    "### Question 5"
   ]
  },
  {
   "cell_type": "markdown",
   "metadata": {},
   "source": [
    "Compare the performance of the algorithms with the 8x8 and 28x28 features. What effect do the additional features have?"
   ]
  },
  {
   "cell_type": "code",
   "execution_count": 11,
   "metadata": {},
   "outputs": [
    {
     "name": "stdout",
     "output_type": "stream",
     "text": [
      "GaussianNB\n",
      "[0.72933333 0.72       0.75066667 0.74666667 0.744     ]\n",
      "DecisionTreeClassifier\n",
      "[0.788      0.81066667 0.82266667 0.78933333 0.81066667]\n",
      "KNeighborsClassifier\n",
      "[0.904      0.932      0.932      0.91866667 0.93733333]\n",
      "SVM\n",
      "[0.94       0.95066667 0.956      0.93466667 0.944     ]\n",
      "LogisticRegression\n",
      "[0.91866667 0.928      0.928      0.91066667 0.93333333]\n"
     ]
    },
    {
     "data": {
      "text/html": [
       "<div>\n",
       "<style scoped>\n",
       "    .dataframe tbody tr th:only-of-type {\n",
       "        vertical-align: middle;\n",
       "    }\n",
       "\n",
       "    .dataframe tbody tr th {\n",
       "        vertical-align: top;\n",
       "    }\n",
       "\n",
       "    .dataframe thead th {\n",
       "        text-align: right;\n",
       "    }\n",
       "</style>\n",
       "<table border=\"1\" class=\"dataframe\">\n",
       "  <thead>\n",
       "    <tr style=\"text-align: right;\">\n",
       "      <th></th>\n",
       "      <th>mean_f1</th>\n",
       "      <th>std_f1</th>\n",
       "      <th>mean_accuracy</th>\n",
       "      <th>std_accuracy</th>\n",
       "    </tr>\n",
       "  </thead>\n",
       "  <tbody>\n",
       "    <tr>\n",
       "      <th>GaussianNB</th>\n",
       "      <td>0.736911</td>\n",
       "      <td>0.013575</td>\n",
       "      <td>0.738133</td>\n",
       "      <td>0.011581</td>\n",
       "    </tr>\n",
       "    <tr>\n",
       "      <th>DecisionTreeClassifier</th>\n",
       "      <td>0.804162</td>\n",
       "      <td>0.012882</td>\n",
       "      <td>0.804267</td>\n",
       "      <td>0.013477</td>\n",
       "    </tr>\n",
       "    <tr>\n",
       "      <th>KNeighborsClassifier</th>\n",
       "      <td>0.924826</td>\n",
       "      <td>0.012041</td>\n",
       "      <td>0.924800</td>\n",
       "      <td>0.012092</td>\n",
       "    </tr>\n",
       "    <tr>\n",
       "      <th>SVM</th>\n",
       "      <td>0.945014</td>\n",
       "      <td>0.007441</td>\n",
       "      <td>0.945067</td>\n",
       "      <td>0.007561</td>\n",
       "    </tr>\n",
       "    <tr>\n",
       "      <th>LogisticRegression</th>\n",
       "      <td>0.923578</td>\n",
       "      <td>0.007985</td>\n",
       "      <td>0.923733</td>\n",
       "      <td>0.008062</td>\n",
       "    </tr>\n",
       "  </tbody>\n",
       "</table>\n",
       "</div>"
      ],
      "text/plain": [
       "                         mean_f1    std_f1  mean_accuracy  std_accuracy\n",
       "GaussianNB              0.736911  0.013575       0.738133      0.011581\n",
       "DecisionTreeClassifier  0.804162  0.012882       0.804267      0.013477\n",
       "KNeighborsClassifier    0.924826  0.012041       0.924800      0.012092\n",
       "SVM                     0.945014  0.007441       0.945067      0.007561\n",
       "LogisticRegression      0.923578  0.007985       0.923733      0.008062"
      ]
     },
     "execution_count": 11,
     "metadata": {},
     "output_type": "execute_result"
    },
    {
     "data": {
      "image/png": "[encoded data removed]",
      "text/plain": [
       "<Figure size 936x360 with 1 Axes>"
      ]
     },
     "metadata": {
      "needs_background": "light"
     },
     "output_type": "display_data"
    }
   ],
   "source": [
    "# TODO\n",
    "\n",
    "models = {\n",
    "    \"GaussianNB\": GaussianNB(),\n",
    "    \"DecisionTreeClassifier\": DecisionTreeClassifier(max_depth=None, min_samples_leaf=1, random_state=42),\n",
    "    \"KNeighborsClassifier\": KNeighborsClassifier(n_neighbors=3, weights=\"distance\"),\n",
    "    \"SVM\": SVC(C = 100, kernel = \"rbf\", random_state = 42),\n",
    "    \"LogisticRegression\": LogisticRegression(C = 0.001, penalty = \"l2\", random_state=42, max_iter = 150000)\n",
    "}\n",
    "\n",
    "n_splits = 5\n",
    "\n",
    "scoring_method_f1 = make_scorer(lambda true_target, prediction : f1_score(true_target, prediction, average=\"weighted\"))\n",
    "scoring_method_accuracy = make_scorer(lambda true_target, prediction : accuracy_score(true_target, prediction))\n",
    "mean_f1 = 0\n",
    "std_f1 = 0\n",
    "mean_accuracy = 0\n",
    "std_accuracy = 0\n",
    "\n",
    "data3 = pd.DataFrame()\n",
    "\n",
    "for name, model in models.items():\n",
    "    print(name)\n",
    "    metrics_f1 = k_fold_fit_and_evaluate(mnist_8x8_train_deskewed, train_labels, (model), scoring_method_f1, n_splits=n_splits)\n",
    "    metrics_accuracy = k_fold_fit_and_evaluate(mnist_8x8_train_deskewed, train_labels, (model), scoring_method_accuracy, n_splits=n_splits)\n",
    "    print(metrics_accuracy)\n",
    "    # START ANSWER \n",
    "    mean_f1 = np.mean(metrics_f1)\n",
    "    std_f1 = np.std(metrics_f1)\n",
    "    mean_accuracy = np.mean(metrics_accuracy)\n",
    "    std_accuracy = np.std(metrics_accuracy)\n",
    "    data1 = pd.DataFrame(np.array([mean_f1, std_f1, mean_accuracy, std_accuracy]).reshape(1,4))\n",
    "                   \n",
    "    data3 = pd.concat([data3, data1], axis = 0)\n",
    "    # END ANSWER \n",
    "    \n",
    "data3.columns = ['mean_f1', 'std_f1', 'mean_accuracy', 'std_accuracy']\n",
    "data3.index = ['GaussianNB', 'DecisionTreeClassifier', 'KNeighborsClassifier', 'SVM', 'LogisticRegression'] \n",
    "\n",
    "N = 5\n",
    "ind = np.arange(N)  # the x locations for the groups\n",
    "width = 0.37       # the width of the bars\n",
    "\n",
    "fig = plt.figure(figsize=(13,5))\n",
    "ax = fig.add_subplot(111)\n",
    "\n",
    "yvals = data2['mean_accuracy']\n",
    "rects1 = ax.bar(ind, yvals, width, color='r', align='center', yerr = data['std_accuracy'], capsize = 13)\n",
    "zvals = data3['mean_accuracy']\n",
    "rects2 = ax.bar(ind+width, zvals, width, color='b', align='center', yerr = data3['std_accuracy'], capsize = 13)\n",
    "\n",
    "\n",
    "ax.set_title('28 by 28 pixel data vs 8 by 8 pixel data')\n",
    "ax.set_ylabel('performance')\n",
    "ax.set_xticks(ind+0.5*width)\n",
    "ax.set_xticklabels( ('GaussianNB', 'DecisionTreeClassifier', 'KNeighborsClassifier', 'SVM', 'LogisticRegression') )\n",
    "ax.legend( (rects1[0], rects2[0]), ('28 x 28 pixels data', '8 x 8 pixels data'))\n",
    "\n",
    "\n",
    "data3.head()\n",
    "    \n"
   ]
  },
  {
   "cell_type": "markdown",
   "metadata": {},
   "source": [
    "### Question 6"
   ]
  },
  {
   "cell_type": "markdown",
   "metadata": {},
   "source": [
    "Select your best algorithm for this dataset and use it to make your predictions for the unknown samples. Feel free to use either the 8x8 or 28x28 features."
   ]
  },
  {
   "cell_type": "code",
   "execution_count": 15,
   "metadata": {},
   "outputs": [],
   "source": [
    "#TODO\n",
    "\n",
    "def moments(image):\n",
    "    c0,c1 = np.mgrid[:image.shape[0],:image.shape[1]] # A trick in numPy to create a mesh grid\n",
    "    totalImage = np.sum(image) #sum of pixels\n",
    "    m0 = np.sum(c0*image)/totalImage #mu_x\n",
    "    m1 = np.sum(c1*image)/totalImage #mu_y\n",
    "    m00 = np.sum((c0-m0)**2*image)/totalImage #var(x)\n",
    "    m11 = np.sum((c1-m1)**2*image)/totalImage #var(y)\n",
    "    m01 = np.sum((c0-m0)*(c1-m1)*image)/totalImage #covariance(x,y)\n",
    "    mu_vector = np.array([m0,m1]) # Notice that these are \\mu_x, \\mu_y respectively\n",
    "    covariance_matrix = np.array([[m00,m01],[m01,m11]]) # Do you see a similarity between the covariance matrix\n",
    "    return mu_vector, covariance_matrix\n",
    "\n",
    "def deskew(image):\n",
    "    c,v = moments(image)\n",
    "    alpha = v[0,1]/v[0,0]\n",
    "    affine = np.array([[1,0],[alpha,1]])\n",
    "    ocenter = np.array(image.shape)/2.0\n",
    "    offset = c-np.dot(affine,ocenter)\n",
    "    return interpolation.affine_transform(image,affine,offset=offset)\n",
    "\n",
    "\n",
    "mnist_28x28_test_deskewed = np.zeros(mnist_28x28_test.shape)\n",
    "\n",
    "\n",
    "for index, image in enumerate(mnist_28x28_test):\n",
    "    mnist_28x28_test_deskewed[index, :, :] = deskew(image)\n",
    "    \n",
    "mnist_28x28_test_deskewed = np.reshape(mnist_28x28_test_deskewed, (mnist_28x28_test_deskewed.shape[0], mnist_28x28_test_deskewed.shape[1]*mnist_28x28_test_deskewed.shape[2]))\n",
    "\n",
    "\n",
    "model = SVC(C = 100, kernel = \"rbf\", random_state = 42)\n",
    "\n",
    "model.fit(mnist_28x28_train_deskewed, train_labels)\n",
    "\n",
    "prediction = model.predict(mnist_28x28_test_deskewed) #TODO replace this with you own prediction\n",
    "pd.DataFrame(prediction).to_csv(\"GROUP_classes_problem_mnist.txt\", index=False, header=False)"
   ]
  }
 ],
 "metadata": {
  "kernelspec": {
   "display_name": "Python 3",
   "language": "python",
   "name": "python3"
  },
  "language_info": {
   "codemirror_mode": {
    "name": "ipython",
    "version": 3
   },
   "file_extension": ".py",
   "mimetype": "text/x-python",
   "name": "python",
   "nbconvert_exporter": "python",
   "pygments_lexer": "ipython3",
   "version": "3.10.7"
  }
 },
 "nbformat": 4,
 "nbformat_minor": 4
}
